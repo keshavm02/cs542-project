{
  "nbformat": 4,
  "nbformat_minor": 5,
  "metadata": {
    "colab": {
      "name": "LR.ipynb",
      "provenance": [],
      "collapsed_sections": []
    },
    "kernelspec": {
      "display_name": "Python 3",
      "language": "python",
      "name": "python3"
    },
    "language_info": {
      "codemirror_mode": {
        "name": "ipython",
        "version": 3
      },
      "file_extension": ".py",
      "mimetype": "text/x-python",
      "name": "python",
      "nbconvert_exporter": "python",
      "pygments_lexer": "ipython3",
      "version": "3.8.6"
    }
  },
  "cells": [
    {
      "cell_type": "markdown",
      "metadata": {
        "id": "54ee776a"
      },
      "source": [
        "## Water Potability \n",
        "\n",
        "### IS your water safe to drink? \n",
        "\n",
        "#### Are you gonna be a 1 ;p or a 0 xp ?"
      ],
      "id": "54ee776a"
    },
    {
      "cell_type": "code",
      "metadata": {
        "id": "e7795d3d"
      },
      "source": [
        "import numpy as np\n",
        "import pandas as pd\n",
        "import seaborn as sns\n",
        "from collections import Counter\n",
        "from sklearn.model_selection import train_test_split\n",
        "from tqdm.notebook import tqdm"
      ],
      "id": "e7795d3d",
      "execution_count": 211,
      "outputs": []
    },
    {
      "cell_type": "code",
      "metadata": {
        "id": "PPvDOT1chw29"
      },
      "source": [
        "# not necessary once downloaded\n",
        "path = !wget http://www.keshavmaheshwari.us/images/water_potability.csv"
      ],
      "id": "PPvDOT1chw29",
      "execution_count": 212,
      "outputs": []
    },
    {
      "cell_type": "code",
      "metadata": {
        "colab": {
          "base_uri": "https://localhost:8080/",
          "height": 376
        },
        "id": "4891a4dd",
        "outputId": "9641d0a8-63c0-41dc-9dd3-19841c4c6a15"
      },
      "source": [
        "water_data = pd.read_csv('water_potability.csv')\n",
        "\n",
        "print(water_data.shape)\n",
        "water_data.head(10)"
      ],
      "id": "4891a4dd",
      "execution_count": 213,
      "outputs": [
        {
          "output_type": "stream",
          "text": [
            "(3276, 10)\n"
          ],
          "name": "stdout"
        },
        {
          "output_type": "execute_result",
          "data": {
            "text/html": [
              "<div>\n",
              "<style scoped>\n",
              "    .dataframe tbody tr th:only-of-type {\n",
              "        vertical-align: middle;\n",
              "    }\n",
              "\n",
              "    .dataframe tbody tr th {\n",
              "        vertical-align: top;\n",
              "    }\n",
              "\n",
              "    .dataframe thead th {\n",
              "        text-align: right;\n",
              "    }\n",
              "</style>\n",
              "<table border=\"1\" class=\"dataframe\">\n",
              "  <thead>\n",
              "    <tr style=\"text-align: right;\">\n",
              "      <th></th>\n",
              "      <th>ph</th>\n",
              "      <th>Hardness</th>\n",
              "      <th>Solids</th>\n",
              "      <th>Chloramines</th>\n",
              "      <th>Sulfate</th>\n",
              "      <th>Conductivity</th>\n",
              "      <th>Organic_carbon</th>\n",
              "      <th>Trihalomethanes</th>\n",
              "      <th>Turbidity</th>\n",
              "      <th>Potability</th>\n",
              "    </tr>\n",
              "  </thead>\n",
              "  <tbody>\n",
              "    <tr>\n",
              "      <th>0</th>\n",
              "      <td>NaN</td>\n",
              "      <td>204.890455</td>\n",
              "      <td>20791.318981</td>\n",
              "      <td>7.300212</td>\n",
              "      <td>368.516441</td>\n",
              "      <td>564.308654</td>\n",
              "      <td>10.379783</td>\n",
              "      <td>86.990970</td>\n",
              "      <td>2.963135</td>\n",
              "      <td>0</td>\n",
              "    </tr>\n",
              "    <tr>\n",
              "      <th>1</th>\n",
              "      <td>3.716080</td>\n",
              "      <td>129.422921</td>\n",
              "      <td>18630.057858</td>\n",
              "      <td>6.635246</td>\n",
              "      <td>NaN</td>\n",
              "      <td>592.885359</td>\n",
              "      <td>15.180013</td>\n",
              "      <td>56.329076</td>\n",
              "      <td>4.500656</td>\n",
              "      <td>0</td>\n",
              "    </tr>\n",
              "    <tr>\n",
              "      <th>2</th>\n",
              "      <td>8.099124</td>\n",
              "      <td>224.236259</td>\n",
              "      <td>19909.541732</td>\n",
              "      <td>9.275884</td>\n",
              "      <td>NaN</td>\n",
              "      <td>418.606213</td>\n",
              "      <td>16.868637</td>\n",
              "      <td>66.420093</td>\n",
              "      <td>3.055934</td>\n",
              "      <td>0</td>\n",
              "    </tr>\n",
              "    <tr>\n",
              "      <th>3</th>\n",
              "      <td>8.316766</td>\n",
              "      <td>214.373394</td>\n",
              "      <td>22018.417441</td>\n",
              "      <td>8.059332</td>\n",
              "      <td>356.886136</td>\n",
              "      <td>363.266516</td>\n",
              "      <td>18.436524</td>\n",
              "      <td>100.341674</td>\n",
              "      <td>4.628771</td>\n",
              "      <td>0</td>\n",
              "    </tr>\n",
              "    <tr>\n",
              "      <th>4</th>\n",
              "      <td>9.092223</td>\n",
              "      <td>181.101509</td>\n",
              "      <td>17978.986339</td>\n",
              "      <td>6.546600</td>\n",
              "      <td>310.135738</td>\n",
              "      <td>398.410813</td>\n",
              "      <td>11.558279</td>\n",
              "      <td>31.997993</td>\n",
              "      <td>4.075075</td>\n",
              "      <td>0</td>\n",
              "    </tr>\n",
              "    <tr>\n",
              "      <th>5</th>\n",
              "      <td>5.584087</td>\n",
              "      <td>188.313324</td>\n",
              "      <td>28748.687739</td>\n",
              "      <td>7.544869</td>\n",
              "      <td>326.678363</td>\n",
              "      <td>280.467916</td>\n",
              "      <td>8.399735</td>\n",
              "      <td>54.917862</td>\n",
              "      <td>2.559708</td>\n",
              "      <td>0</td>\n",
              "    </tr>\n",
              "    <tr>\n",
              "      <th>6</th>\n",
              "      <td>10.223862</td>\n",
              "      <td>248.071735</td>\n",
              "      <td>28749.716544</td>\n",
              "      <td>7.513408</td>\n",
              "      <td>393.663396</td>\n",
              "      <td>283.651634</td>\n",
              "      <td>13.789695</td>\n",
              "      <td>84.603556</td>\n",
              "      <td>2.672989</td>\n",
              "      <td>0</td>\n",
              "    </tr>\n",
              "    <tr>\n",
              "      <th>7</th>\n",
              "      <td>8.635849</td>\n",
              "      <td>203.361523</td>\n",
              "      <td>13672.091764</td>\n",
              "      <td>4.563009</td>\n",
              "      <td>303.309771</td>\n",
              "      <td>474.607645</td>\n",
              "      <td>12.363817</td>\n",
              "      <td>62.798309</td>\n",
              "      <td>4.401425</td>\n",
              "      <td>0</td>\n",
              "    </tr>\n",
              "    <tr>\n",
              "      <th>8</th>\n",
              "      <td>NaN</td>\n",
              "      <td>118.988579</td>\n",
              "      <td>14285.583854</td>\n",
              "      <td>7.804174</td>\n",
              "      <td>268.646941</td>\n",
              "      <td>389.375566</td>\n",
              "      <td>12.706049</td>\n",
              "      <td>53.928846</td>\n",
              "      <td>3.595017</td>\n",
              "      <td>0</td>\n",
              "    </tr>\n",
              "    <tr>\n",
              "      <th>9</th>\n",
              "      <td>11.180284</td>\n",
              "      <td>227.231469</td>\n",
              "      <td>25484.508491</td>\n",
              "      <td>9.077200</td>\n",
              "      <td>404.041635</td>\n",
              "      <td>563.885481</td>\n",
              "      <td>17.927806</td>\n",
              "      <td>71.976601</td>\n",
              "      <td>4.370562</td>\n",
              "      <td>0</td>\n",
              "    </tr>\n",
              "  </tbody>\n",
              "</table>\n",
              "</div>"
            ],
            "text/plain": [
              "          ph    Hardness        Solids  ...  Trihalomethanes  Turbidity  Potability\n",
              "0        NaN  204.890455  20791.318981  ...        86.990970   2.963135           0\n",
              "1   3.716080  129.422921  18630.057858  ...        56.329076   4.500656           0\n",
              "2   8.099124  224.236259  19909.541732  ...        66.420093   3.055934           0\n",
              "3   8.316766  214.373394  22018.417441  ...       100.341674   4.628771           0\n",
              "4   9.092223  181.101509  17978.986339  ...        31.997993   4.075075           0\n",
              "5   5.584087  188.313324  28748.687739  ...        54.917862   2.559708           0\n",
              "6  10.223862  248.071735  28749.716544  ...        84.603556   2.672989           0\n",
              "7   8.635849  203.361523  13672.091764  ...        62.798309   4.401425           0\n",
              "8        NaN  118.988579  14285.583854  ...        53.928846   3.595017           0\n",
              "9  11.180284  227.231469  25484.508491  ...        71.976601   4.370562           0\n",
              "\n",
              "[10 rows x 10 columns]"
            ]
          },
          "metadata": {
            "tags": []
          },
          "execution_count": 213
        }
      ]
    },
    {
      "cell_type": "code",
      "metadata": {
        "colab": {
          "base_uri": "https://localhost:8080/",
          "height": 359
        },
        "id": "_dzyFbBSABdi",
        "outputId": "0d75f96a-c66f-4965-c0b2-bb7b22496a59"
      },
      "source": [
        "sns.heatmap(water_data.isnull())"
      ],
      "id": "_dzyFbBSABdi",
      "execution_count": 214,
      "outputs": [
        {
          "output_type": "execute_result",
          "data": {
            "text/plain": [
              "<matplotlib.axes._subplots.AxesSubplot at 0x7efd79e268d0>"
            ]
          },
          "metadata": {
            "tags": []
          },
          "execution_count": 214
        },
        {
          "output_type": "display_data",
          "data": {
            "image/png": "[encoded data removed]",
            "text/plain": [
              "<Figure size 432x288 with 2 Axes>"
            ]
          },
          "metadata": {
            "tags": [],
            "needs_background": "light"
          }
        }
      ]
    },
    {
      "cell_type": "code",
      "metadata": {
        "colab": {
          "base_uri": "https://localhost:8080/"
        },
        "id": "F5Co3zpwWdS3",
        "outputId": "24c5316e-1145-4cc2-bc3b-aeb884633371"
      },
      "source": [
        "## SKEWNESS CORRECTION\n",
        "print(water_data.Potability.value_counts())\n",
        "from sklearn.utils import resample\n",
        "\n",
        "negative = water_data[water_data.Potability==0]\n",
        "positive = water_data[water_data.Potability==1]\n",
        "neg_sampled = resample(negative, replace=True, n_samples=len(positive))\n",
        "\n",
        "downsampled = pd.concat([positive, neg_sampled])\n",
        "print(downsampled.Potability.value_counts())\n",
        "downsampled.reset_index(drop=True, inplace=True)\n",
        "print(downsampled.head(20))\n",
        "print(downsampled.Potability.value_counts())\n",
        "print(downsampled.shape)"
      ],
      "id": "F5Co3zpwWdS3",
      "execution_count": 215,
      "outputs": [
        {
          "output_type": "stream",
          "text": [
            "0    1998\n",
            "1    1278\n",
            "Name: Potability, dtype: int64\n",
            "1    1278\n",
            "0    1278\n",
            "Name: Potability, dtype: int64\n",
            "           ph    Hardness        Solids  ...  Trihalomethanes  Turbidity  Potability\n",
            "0    9.445130  145.805402  13168.529156  ...        77.577460   3.875165           1\n",
            "1    9.024845  128.096691  19859.676476  ...        73.778026   3.985251           1\n",
            "2         NaN  169.974849  23403.637304  ...        50.861913   2.747313           1\n",
            "3    6.800119  242.008082  39143.403329  ...        73.777275   3.854940           1\n",
            "4    7.174135  203.408935  20401.102461  ...        74.405616   3.939896           1\n",
            "5    7.657991  236.960889  14245.789121  ...        85.852769   2.437296           1\n",
            "6    8.322987  207.252462  28049.646283  ...        60.911420   4.052136           1\n",
            "7    5.934279  223.858125  23249.653834  ...        66.623944   5.217895           1\n",
            "8    9.802721   98.771644  27357.456745  ...        59.454440   2.764634           1\n",
            "9    6.101955  215.268090  15976.926225  ...        62.505642   3.535596           1\n",
            "10   4.997771  280.082411  26849.194735  ...        70.560275   3.404633           1\n",
            "11   4.815767  217.687093  16392.135069  ...        77.693374   4.375224           1\n",
            "12   6.548021  278.585105  25508.386949  ...        79.323678   3.611860           1\n",
            "13  13.175402   47.432000  19237.949676  ...              NaN   4.106924           1\n",
            "14   6.618011  233.661636  19598.860740  ...        73.191921   4.437696           1\n",
            "15   7.788055  212.691457  29879.060146  ...        83.856336   3.368757           1\n",
            "16   5.191834  211.094185  14866.103863  ...        83.505406   3.859801           1\n",
            "17   5.626340  230.857983  14442.418875  ...        43.195182   1.943319           1\n",
            "18   6.869639  251.293448  21728.821295  ...        56.409708   4.726702           1\n",
            "19   9.058628  155.357557  15737.468938  ...        83.175189   3.652134           1\n",
            "\n",
            "[20 rows x 10 columns]\n",
            "1    1278\n",
            "0    1278\n",
            "Name: Potability, dtype: int64\n",
            "(2556, 10)\n"
          ],
          "name": "stdout"
        }
      ]
    },
    {
      "cell_type": "code",
      "metadata": {
        "id": "d0b64757"
      },
      "source": [
        "def split_data(df):\n",
        "    training_set, testing_set = train_test_split(df)\n",
        "    tns = training_set.reset_index(drop=True)\n",
        "    tts = testing_set.reset_index(drop=True)\n",
        "    return tns, tts"
      ],
      "id": "d0b64757",
      "execution_count": 216,
      "outputs": []
    },
    {
      "cell_type": "code",
      "metadata": {
        "colab": {
          "base_uri": "https://localhost:8080/"
        },
        "id": "3f22e184",
        "outputId": "abe6c267-e53f-4cbb-ffba-4ee4f1ea6fe8"
      },
      "source": [
        "train1, test1 = split_data(downsampled)\n",
        "\n",
        "print(train1.shape)\n",
        "print(test1.shape)"
      ],
      "id": "3f22e184",
      "execution_count": 217,
      "outputs": [
        {
          "output_type": "stream",
          "text": [
            "(1917, 10)\n",
            "(639, 10)\n"
          ],
          "name": "stdout"
        }
      ]
    },
    {
      "cell_type": "code",
      "metadata": {
        "colab": {
          "base_uri": "https://localhost:8080/",
          "height": 359
        },
        "id": "nc2pEfG5BWQa",
        "outputId": "0073c630-ca54-43ba-9811-45c7df27179a"
      },
      "source": [
        "print(\"training set 1 heatmap: \")\n",
        "p1 = sns.heatmap(train1.isnull())"
      ],
      "id": "nc2pEfG5BWQa",
      "execution_count": 218,
      "outputs": [
        {
          "output_type": "stream",
          "text": [
            "training set 1 heatmap: \n"
          ],
          "name": "stdout"
        },
        {
          "output_type": "display_data",
          "data": {
            "image/png": "[encoded data removed]",
            "text/plain": [
              "<Figure size 432x288 with 2 Axes>"
            ]
          },
          "metadata": {
            "tags": [],
            "needs_background": "light"
          }
        }
      ]
    },
    {
      "cell_type": "code",
      "metadata": {
        "colab": {
          "base_uri": "https://localhost:8080/",
          "height": 359
        },
        "id": "NHYikTA0Bat1",
        "outputId": "1b37428a-8bf1-441b-9de3-26a1be53566a"
      },
      "source": [
        "print(\"testing set 1 heatmap: \")\n",
        "p2 = sns.heatmap(train1.isnull())"
      ],
      "id": "NHYikTA0Bat1",
      "execution_count": 219,
      "outputs": [
        {
          "output_type": "stream",
          "text": [
            "testing set 1 heatmap: \n"
          ],
          "name": "stdout"
        },
        {
          "output_type": "display_data",
          "data": {
            "image/png": "[encoded data removed]",
            "text/plain": [
              "<Figure size 432x288 with 2 Axes>"
            ]
          },
          "metadata": {
            "tags": [],
            "needs_background": "light"
          }
        }
      ]
    },
    {
      "cell_type": "code",
      "metadata": {
        "colab": {
          "base_uri": "https://localhost:8080/",
          "height": 238
        },
        "id": "ca6395b3",
        "scrolled": true,
        "outputId": "e960ecca-d090-4af7-88c6-c198175a26c0"
      },
      "source": [
        "train2, test2 = split_data(downsampled)\n",
        "print(train2.shape)\n",
        "print(test2.shape)\n",
        "\n",
        "test2.head()"
      ],
      "id": "ca6395b3",
      "execution_count": 220,
      "outputs": [
        {
          "output_type": "stream",
          "text": [
            "(1917, 10)\n",
            "(639, 10)\n"
          ],
          "name": "stdout"
        },
        {
          "output_type": "execute_result",
          "data": {
            "text/html": [
              "<div>\n",
              "<style scoped>\n",
              "    .dataframe tbody tr th:only-of-type {\n",
              "        vertical-align: middle;\n",
              "    }\n",
              "\n",
              "    .dataframe tbody tr th {\n",
              "        vertical-align: top;\n",
              "    }\n",
              "\n",
              "    .dataframe thead th {\n",
              "        text-align: right;\n",
              "    }\n",
              "</style>\n",
              "<table border=\"1\" class=\"dataframe\">\n",
              "  <thead>\n",
              "    <tr style=\"text-align: right;\">\n",
              "      <th></th>\n",
              "      <th>ph</th>\n",
              "      <th>Hardness</th>\n",
              "      <th>Solids</th>\n",
              "      <th>Chloramines</th>\n",
              "      <th>Sulfate</th>\n",
              "      <th>Conductivity</th>\n",
              "      <th>Organic_carbon</th>\n",
              "      <th>Trihalomethanes</th>\n",
              "      <th>Turbidity</th>\n",
              "      <th>Potability</th>\n",
              "    </tr>\n",
              "  </thead>\n",
              "  <tbody>\n",
              "    <tr>\n",
              "      <th>0</th>\n",
              "      <td>6.834260</td>\n",
              "      <td>182.454462</td>\n",
              "      <td>21670.569891</td>\n",
              "      <td>6.407648</td>\n",
              "      <td>325.950411</td>\n",
              "      <td>397.337508</td>\n",
              "      <td>16.506658</td>\n",
              "      <td>74.462646</td>\n",
              "      <td>2.658843</td>\n",
              "      <td>1</td>\n",
              "    </tr>\n",
              "    <tr>\n",
              "      <th>1</th>\n",
              "      <td>5.941266</td>\n",
              "      <td>179.954862</td>\n",
              "      <td>26562.447179</td>\n",
              "      <td>6.803288</td>\n",
              "      <td>NaN</td>\n",
              "      <td>431.969182</td>\n",
              "      <td>14.632401</td>\n",
              "      <td>75.434029</td>\n",
              "      <td>2.227371</td>\n",
              "      <td>0</td>\n",
              "    </tr>\n",
              "    <tr>\n",
              "      <th>2</th>\n",
              "      <td>NaN</td>\n",
              "      <td>252.404565</td>\n",
              "      <td>20197.247668</td>\n",
              "      <td>2.562255</td>\n",
              "      <td>350.547757</td>\n",
              "      <td>454.969812</td>\n",
              "      <td>12.031863</td>\n",
              "      <td>69.292252</td>\n",
              "      <td>5.146443</td>\n",
              "      <td>0</td>\n",
              "    </tr>\n",
              "    <tr>\n",
              "      <th>3</th>\n",
              "      <td>5.488314</td>\n",
              "      <td>135.802362</td>\n",
              "      <td>21485.153195</td>\n",
              "      <td>8.187416</td>\n",
              "      <td>280.603287</td>\n",
              "      <td>441.331137</td>\n",
              "      <td>14.860263</td>\n",
              "      <td>88.287346</td>\n",
              "      <td>5.066786</td>\n",
              "      <td>0</td>\n",
              "    </tr>\n",
              "    <tr>\n",
              "      <th>4</th>\n",
              "      <td>5.554437</td>\n",
              "      <td>229.122829</td>\n",
              "      <td>31344.460394</td>\n",
              "      <td>7.761431</td>\n",
              "      <td>NaN</td>\n",
              "      <td>306.872526</td>\n",
              "      <td>13.974800</td>\n",
              "      <td>87.273375</td>\n",
              "      <td>2.095914</td>\n",
              "      <td>0</td>\n",
              "    </tr>\n",
              "  </tbody>\n",
              "</table>\n",
              "</div>"
            ],
            "text/plain": [
              "         ph    Hardness        Solids  ...  Trihalomethanes  Turbidity  Potability\n",
              "0  6.834260  182.454462  21670.569891  ...        74.462646   2.658843           1\n",
              "1  5.941266  179.954862  26562.447179  ...        75.434029   2.227371           0\n",
              "2       NaN  252.404565  20197.247668  ...        69.292252   5.146443           0\n",
              "3  5.488314  135.802362  21485.153195  ...        88.287346   5.066786           0\n",
              "4  5.554437  229.122829  31344.460394  ...        87.273375   2.095914           0\n",
              "\n",
              "[5 rows x 10 columns]"
            ]
          },
          "metadata": {
            "tags": []
          },
          "execution_count": 220
        }
      ]
    },
    {
      "cell_type": "code",
      "metadata": {
        "id": "dcNlA59dnV0k"
      },
      "source": [
        ""
      ],
      "id": "dcNlA59dnV0k",
      "execution_count": 220,
      "outputs": []
    },
    {
      "cell_type": "code",
      "metadata": {
        "id": "74e7e780"
      },
      "source": [
        "def impute_missing_data(training_set, testing_set):\n",
        "    train_s = impute_features(training_set)\n",
        "    test_s = impute_features(testing_set)\n",
        "    #print(train_s.head())\n",
        "    #print(test_s.head())\n",
        "    return (train_s, test_s)\n",
        "\n",
        "\n",
        "def impute_features(input_dataset):\n",
        "    dataset = input_dataset.copy()\n",
        "    count = 0\n",
        "    for i in dataset:\n",
        "        no_na_column = dataset[i].dropna().values\n",
        "        mean = sum(no_na_column) / len(no_na_column)\n",
        "        na_map_list = list(dataset[i].isna().values)\n",
        "        for b in range(len(na_map_list)):\n",
        "            if na_map_list[b] == True:\n",
        "                count +=1\n",
        "                dataset.__getitem__(i).__setitem__(b, mean)\n",
        "                #dataset.iloc[i][b] = mean\n",
        "    return dataset.copy()\n",
        "\n",
        "\n",
        "\n",
        "# def distance(row1, row2):\n",
        "#     d = 0\n",
        "#     for a, b in zip(row1, row2):\n",
        "#         c = abs(a - b)\n",
        "#         d += (c ** (1/2))\n",
        "#     return np.sqrt(d)\n",
        "\n",
        "\n",
        "# def predict(training_set, testing_set, k_nearest):\n",
        "#     predictions = []\n",
        "#     for i in tqdm(range(int(testing_set.shape[0]))):\n",
        "#         recorded_vals = []\n",
        "#         rowTest = testing_set.loc[i].values\n",
        "#         for j in range(int(training_set.shape[0])):\n",
        "#             rowTrain = training_set.iloc[j].values\n",
        "#             dist = distance(rowTrain, rowTest)\n",
        "#             val = rowTrain[-1]\n",
        "#             recorded_vals += [(dist, val)]\n",
        "#         topk_outcomes = [label for (dist, label) in sorted(recorded_vals)[:k_nearest]]\n",
        "#         labels = set(topk_outcomes)\n",
        "#         outcomes = []\n",
        "#         for label in labels:\n",
        "#             count = topk_outcomes.count(label)\n",
        "#             outcomes += [(count, label)]\n",
        "#         (_, outcome) = max(outcomes)\n",
        "#         predictions += [outcome]\n",
        "#     return predictions\n",
        "\n",
        "# def compare(training_set, testing_set, k):\n",
        "#     predicted = predict(training_set, testing_set, k)\n",
        "#     actual = list(testing_set.iloc[:, -1].values)\n",
        "#     comparison = pd.DataFrame(list(zip(predicted, actual)))\n",
        "#     return (predicted, actual)\n",
        "\n",
        "# def accuracy(predicted, actual):\n",
        "#     correct = 0\n",
        "#     for i in range(len(predicted)):\n",
        "#         if predicted[i] == actual[i]:\n",
        "#             correct += 1\n",
        "#     return correct / len(predicted)\n",
        "\n",
        "# def run_test(trnS, tstS, k, treatment=False):\n",
        "#     if treatment:\n",
        "#         (trnS, tstS) = impute_missing_data(trnS, tstS)\n",
        "#     (pred, act) = compare(trnS, tstS, k)\n",
        "#     acc = accuracy(pred, act)\n",
        "#     return acc"
      ],
      "id": "74e7e780",
      "execution_count": 221,
      "outputs": []
    },
    {
      "cell_type": "code",
      "metadata": {
        "id": "2JyGQghaS5V9",
        "scrolled": true
      },
      "source": [
        "# import matplotlib.pyplot as plt\n",
        "# import multiprocessing\n",
        "# from joblib import Parallel, delayed\n",
        "# # import warnings\n",
        "# # warnings.simplefilter(action='ignore', category=Warning)\n",
        "\n",
        "# k_range = list(range(1,100,2))\n",
        "# num_cores = multiprocessing.cpu_count()\n",
        "# print(num_cores)\n",
        "\n",
        "# def fun(k):\n",
        "#   acc = run_test(train2, test2, k, True)\n",
        "#   return acc\n",
        "\n",
        "# executor = Parallel(n_jobs=num_cores, backend= 'multiprocessing')\n",
        "# tasks = (delayed(fun)(i) for i in tqdm(k_range))\n",
        "# acc_list = executor(tasks)\n",
        "\n",
        "# plt.plot(k_range, acc_list)\n",
        "# plt.xlabel('Value of k for KNN')\n",
        "# plt.ylabel('Accuracy Score')\n",
        "# plt.title('Accuracy Scores for Values of k of k-Nearest-Neighbors')\n",
        "# plt.show()"
      ],
      "id": "2JyGQghaS5V9",
      "execution_count": 222,
      "outputs": []
    },
    {
      "cell_type": "code",
      "metadata": {
        "id": "DOMjjSQIWU8a"
      },
      "source": [
        "# def printResults(acc_list, k_list):\n",
        "# #     for k in range(len(acc_list)):\n",
        "# #         print(\"For k = \" + str(k_list[k]) + \",\")\n",
        "# #         print(\"accuracy = \" + str(acc_list[k]))\n",
        "#     print(\"MAX acc: \" + str(max(acc_list)))\n",
        "#     print(\"for K = \" + str(k_list[acc_list.index(max(acc_list))]))\n",
        "    \n",
        "# printResults(acc_list, k_range)"
      ],
      "id": "DOMjjSQIWU8a",
      "execution_count": 223,
      "outputs": []
    },
    {
      "cell_type": "code",
      "metadata": {
        "id": "sQxMazI4HNRV",
        "colab": {
          "base_uri": "https://localhost:8080/",
          "height": 516
        },
        "outputId": "21c925a9-ad06-4188-e3ff-fc56e975e151"
      },
      "source": [
        "from sklearn.linear_model import LogisticRegression\n",
        "from sklearn.metrics import classification_report, confusion_matrix\n",
        "\n",
        "X = impute_features(downsampled)\n",
        "\n",
        "inputs = X.drop('Potability', axis=1)\n",
        "outputs = X['Potability']\n",
        "\n",
        "X_train, X_test, y_train, y_test = train_test_split(inputs, outputs)\n",
        "\n",
        "logmodel = LogisticRegression()\n",
        "logmodel.fit(X_train,y_train)\n",
        "predictions = logmodel.predict(X_test)\n",
        "\n",
        "print(classification_report(y_test, predictions))\n",
        "\n",
        "# confusion_matrix(y_test, predictions)\n",
        "\n",
        "ax = sns.heatmap(confusion_matrix(y_test, predictions), annot=True, fmt=\"d\", cmap='YlGnBu')\n",
        "# ax.set(title = \"KNN heatmap\")\n",
        "plt.title('Confusion Matrix')\n",
        "plt.xlabel('Predicted Label')\n",
        "plt.ylabel('True Label')\n",
        "plt.show()"
      ],
      "id": "sQxMazI4HNRV",
      "execution_count": 224,
      "outputs": [
        {
          "output_type": "stream",
          "text": [
            "/usr/local/lib/python3.7/dist-packages/ipykernel_launcher.py:19: SettingWithCopyWarning: \n",
            "A value is trying to be set on a copy of a slice from a DataFrame\n",
            "\n",
            "See the caveats in the documentation: https://pandas.pydata.org/pandas-docs/stable/user_guide/indexing.html#returning-a-view-versus-a-copy\n"
          ],
          "name": "stderr"
        },
        {
          "output_type": "stream",
          "text": [
            "              precision    recall  f1-score   support\n",
            "\n",
            "           0       0.50      0.62      0.56       308\n",
            "           1       0.55      0.43      0.48       331\n",
            "\n",
            "    accuracy                           0.52       639\n",
            "   macro avg       0.53      0.53      0.52       639\n",
            "weighted avg       0.53      0.52      0.52       639\n",
            "\n"
          ],
          "name": "stdout"
        },
        {
          "output_type": "display_data",
          "data": {
            "image/png": "[encoded data removed]",
            "text/plain": [
              "<Figure size 432x288 with 2 Axes>"
            ]
          },
          "metadata": {
            "tags": [],
            "needs_background": "light"
          }
        }
      ]
    },
    {
      "cell_type": "code",
      "metadata": {
        "id": "FyeyF3WIrxa6"
      },
      "source": [
        "# run_test(train1, test1, 1, True)\n",
        "# run_test(train1, test1, 3, True)\n",
        "# run_test(train1, test1, 5, True)\n",
        "# run_test(train1, test1, 7, True)\n",
        "# run_test(train1, test1, 9, True)\n",
        "# run_test(train1, test1, 11, True)\n",
        "# run_test(train2, test2, 13, True)\n",
        "# run_test(train1, test1, 31, True)\n",
        "# run_test(train1, test1, 33, True)"
      ],
      "id": "FyeyF3WIrxa6",
      "execution_count": 225,
      "outputs": []
    }
  ]
}